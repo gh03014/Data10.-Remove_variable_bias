{
 "cells": [
  {
   "cell_type": "code",
   "execution_count": 1,
   "metadata": {},
   "outputs": [],
   "source": [
    "import os\n",
    "import pandas as pd\n",
    "df = pd.read_csv(\"Sonar_Mines_Rocks.csv\")"
   ]
  },
  {
   "cell_type": "code",
   "execution_count": 2,
   "metadata": {},
   "outputs": [],
   "source": [
    "# 특징과 라벨 분리\n",
    "X = df.drop('Y', axis = 1)\n",
    "Y = df['Y']"
   ]
  },
  {
   "cell_type": "code",
   "execution_count": 3,
   "metadata": {},
   "outputs": [],
   "source": [
    "# 학습 데이터와 평가 데이터로 분리\n",
    "from sklearn.model_selection import train_test_split\n",
    "Train_X, Test_X, Train_Y, Test_Y = train_test_split(X, Y)"
   ]
  },
  {
   "cell_type": "code",
   "execution_count": 4,
   "metadata": {
    "scrolled": true
   },
   "outputs": [
    {
     "data": {
      "text/plain": [
       "Band1     2.030526\n",
       "Band2     1.975223\n",
       "Band3     2.597772\n",
       "Band4     3.519814\n",
       "Band5     2.117638\n",
       "Band6     1.316527\n",
       "Band7     1.182681\n",
       "Band8     1.456795\n",
       "Band9     1.550361\n",
       "Band10    1.238541\n",
       "Band11    0.926722\n",
       "Band12    0.523671\n",
       "Band13    0.669469\n",
       "Band14    1.109024\n",
       "Band15    0.801853\n",
       "Band16    0.709791\n",
       "Band17    0.709770\n",
       "Band18    0.518228\n",
       "Band19    0.314905\n",
       "Band20   -0.114302\n",
       "Band21   -0.345601\n",
       "Band22   -0.400898\n",
       "Band23   -0.598068\n",
       "Band24   -0.636171\n",
       "Band25   -0.658681\n",
       "Band26   -0.590409\n",
       "Band27   -0.529494\n",
       "Band28   -0.588414\n",
       "Band29   -0.452756\n",
       "Band30   -0.170138\n",
       "Band31    0.189258\n",
       "Band32    0.201537\n",
       "Band33    0.378510\n",
       "Band34    0.451211\n",
       "Band35    0.464435\n",
       "Band36    0.564456\n",
       "Band37    0.612379\n",
       "Band38    0.936028\n",
       "Band39    0.855393\n",
       "Band40    0.739789\n",
       "Band41    0.828360\n",
       "Band42    0.738055\n",
       "Band43    0.794670\n",
       "Band44    1.151933\n",
       "Band45    1.195313\n",
       "Band46    1.565330\n",
       "Band47    1.810005\n",
       "Band48    1.324964\n",
       "Band49    1.257787\n",
       "Band50    1.827311\n",
       "Band51    2.850472\n",
       "Band52    2.130298\n",
       "Band53    1.041035\n",
       "Band54    1.157178\n",
       "Band55    1.748572\n",
       "Band56    1.716110\n",
       "Band57    1.668075\n",
       "Band58    1.960517\n",
       "Band59    1.870036\n",
       "Band60    3.159197\n",
       "dtype: float64"
      ]
     },
     "execution_count": 4,
     "metadata": {},
     "output_type": "execute_result"
    }
   ],
   "source": [
    "# Band4의 왜도가 가장 큼 => 어떻게 분포되어 있는지 확인해보자\n",
    "Train_X.skew() "
   ]
  },
  {
   "cell_type": "code",
   "execution_count": 5,
   "metadata": {},
   "outputs": [
    {
     "data": {
      "text/plain": [
       "<AxesSubplot:>"
      ]
     },
     "execution_count": 5,
     "metadata": {},
     "output_type": "execute_result"
    },
    {
     "data": {
      "image/png": "[encoded data removed]",
      "text/plain": [
       "<Figure size 432x288 with 1 Axes>"
      ]
     },
     "metadata": {
      "needs_background": "light"
     },
     "output_type": "display_data"
    }
   ],
   "source": [
    "# 한쪽으로 많이 치우쳐 있다\n",
    "%matplotlib inline\n",
    "df['Band4'].hist()"
   ]
  },
  {
   "cell_type": "code",
   "execution_count": 6,
   "metadata": {},
   "outputs": [],
   "source": [
    "# 치우침을 제거했을 때의 성능 비교를 위한 모델 개발\n",
    "\n",
    "# 라벨 숫자로 바꾸기\n",
    "Train_Y.replace({\"M\":-1, \"R\":1}, inplace = True)\n",
    "Test_Y.replace({\"M\":-1, \"R\":1}, inplace = True)"
   ]
  },
  {
   "cell_type": "code",
   "execution_count": 7,
   "metadata": {},
   "outputs": [
    {
     "name": "stdout",
     "output_type": "stream",
     "text": [
      "0.9019607843137256\n"
     ]
    },
    {
     "name": "stderr",
     "output_type": "stream",
     "text": [
      "c:\\users\\jaehwan\\appdata\\local\\programs\\python\\python38\\lib\\site-packages\\sklearn\\neural_network\\_multilayer_perceptron.py:614: ConvergenceWarning: Stochastic Optimizer: Maximum iterations (700) reached and the optimization hasn't converged yet.\n",
      "  warnings.warn(\n"
     ]
    }
   ],
   "source": [
    "# 원본 데이터로 모델링\n",
    "from sklearn.metrics import f1_score\n",
    "from sklearn.neural_network import MLPClassifier as MLP\n",
    "model = MLP(random_state = 42, max_iter = 700).fit(Train_X, Train_Y)\n",
    "pred_Y = model.predict(Test_X)\n",
    "score = f1_score(Test_Y, pred_Y)\n",
    "print(score)"
   ]
  },
  {
   "cell_type": "code",
   "execution_count": 8,
   "metadata": {},
   "outputs": [],
   "source": [
    "# 왜도 기반 치우친 변수 제거 \n",
    "import numpy as np\n",
    "# 왜도의 절대값이 1.5 이상인 컬럼만 가져오기\n",
    "biased_variables = Train_X.columns[Train_X.skew().abs() > 1.5] "
   ]
  },
  {
   "cell_type": "code",
   "execution_count": 9,
   "metadata": {},
   "outputs": [
    {
     "name": "stderr",
     "output_type": "stream",
     "text": [
      "c:\\users\\jaehwan\\appdata\\local\\programs\\python\\python38\\lib\\site-packages\\pandas\\core\\frame.py:3191: SettingWithCopyWarning: \n",
      "A value is trying to be set on a copy of a slice from a DataFrame.\n",
      "Try using .loc[row_indexer,col_indexer] = value instead\n",
      "\n",
      "See the caveats in the documentation: https://pandas.pydata.org/pandas-docs/stable/user_guide/indexing.html#returning-a-view-versus-a-copy\n",
      "  self[k1] = value[k2]\n"
     ]
    }
   ],
   "source": [
    "# 치우침 제거\n",
    "Train_X[biased_variables] = Train_X[biased_variables] - Train_X[biased_variables].min() + 1\n",
    "Train_X[biased_variables] = np.log10(Train_X[biased_variables])"
   ]
  },
  {
   "cell_type": "code",
   "execution_count": 10,
   "metadata": {},
   "outputs": [
    {
     "name": "stdout",
     "output_type": "stream",
     "text": [
      "0.8260869565217392\n"
     ]
    },
    {
     "name": "stderr",
     "output_type": "stream",
     "text": [
      "c:\\users\\jaehwan\\appdata\\local\\programs\\python\\python38\\lib\\site-packages\\sklearn\\neural_network\\_multilayer_perceptron.py:614: ConvergenceWarning: Stochastic Optimizer: Maximum iterations (700) reached and the optimization hasn't converged yet.\n",
      "  warnings.warn(\n",
      "c:\\users\\jaehwan\\appdata\\local\\programs\\python\\python38\\lib\\site-packages\\pandas\\core\\frame.py:3191: SettingWithCopyWarning: \n",
      "A value is trying to be set on a copy of a slice from a DataFrame.\n",
      "Try using .loc[row_indexer,col_indexer] = value instead\n",
      "\n",
      "See the caveats in the documentation: https://pandas.pydata.org/pandas-docs/stable/user_guide/indexing.html#returning-a-view-versus-a-copy\n",
      "  self[k1] = value[k2]\n"
     ]
    }
   ],
   "source": [
    "# 치우침 제거 후 모델 평가\n",
    "model = MLP(random_state = 42, max_iter = 700).fit(Train_X, Train_Y)\n",
    "\n",
    "# 테스트도 데이터도 같은 방법으로 전처리를 수행\n",
    "Test_X[biased_variables] = Test_X[biased_variables] - Test_X[biased_variables].min() + 1\n",
    "Test_X[biased_variables] = Test_X[biased_variables].apply(np.log)\n",
    "\n",
    "pred_Y = model.predict(Test_X)\n",
    "score = f1_score(Test_Y, pred_Y)\n",
    "print(score)"
   ]
  },
  {
   "cell_type": "code",
   "execution_count": null,
   "metadata": {},
   "outputs": [],
   "source": []
  }
 ],
 "metadata": {
  "kernelspec": {
   "display_name": "Python 3",
   "language": "python",
   "name": "python3"
  },
  "language_info": {
   "codemirror_mode": {
    "name": "ipython",
    "version": 3
   },
   "file_extension": ".py",
   "mimetype": "text/x-python",
   "name": "python",
   "nbconvert_exporter": "python",
   "pygments_lexer": "ipython3",
   "version": "3.8.5"
  }
 },
 "nbformat": 4,
 "nbformat_minor": 2
}
